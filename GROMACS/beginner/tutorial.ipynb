{
 "cells": [
  {
   "cell_type": "markdown",
   "metadata": {},
   "source": [
    "# Beginner's tutorial on molecular dynamics simulations in Gromacs\n",
    "In this tutorial we will make a short MD simulation of a protein domain, named [chromo domain](https://en.wikipedia.org/wiki/Chromodomain) and make basic MD trajectory analysis.\n",
    "\n",
    "For full Gromacs manual, see here http://manual.gromacs.org"
   ]
  },
  {
   "cell_type": "markdown",
   "metadata": {},
   "source": [
    "## Step 1: Getting, examining and prepairing the PDB file.\n",
    "The [protein data bank](https://www.rcsb.org) is a repository of protein structure files resolved via different experimental methods (X-ray, NMR, cryoEM, etc.).\n",
    "Each structure is identified by a 4-letter PDB code.\n",
    "[1Q3L](https://www.rcsb.org/structure/1Q3L) - is the structure named \"Chromodomain Of HP1 Complexed With Histone H3 Tail Containing monomethyllysine 9\", click to examine the page.\n",
    "The PDB file can be downloaded from that page via this link https://files.rcsb.org/view/1Q3L.pdb ."
   ]
  },
  {
   "cell_type": "code",
   "execution_count": 1,
   "metadata": {},
   "outputs": [
    {
     "name": "stdout",
     "output_type": "stream",
     "text": [
      "--2019-01-08 18:58:27--  https://files.rcsb.org/view/1Q3L.pdb\n",
      "Resolving files.rcsb.org (files.rcsb.org)... 128.6.244.231\n",
      "Connecting to files.rcsb.org (files.rcsb.org)|128.6.244.231|:443... connected.\n",
      "HTTP request sent, awaiting response... 200 OK\n",
      "Length: unspecified [text/plain]\n",
      "Saving to: ‘1Q3L.pdb’\n",
      "\n",
      "1Q3L.pdb                [  <=>               ]  78.94K   321KB/s    in 0.2s    \n",
      "\n",
      "2019-01-08 18:58:28 (321 KB/s) - ‘1Q3L.pdb’ saved [80838]\n",
      "\n"
     ]
    }
   ],
   "source": [
    "#We will download this file via a terminal command, here\n",
    "!wget https://files.rcsb.org/view/1Q3L.pdb"
   ]
  },
  {
   "cell_type": "markdown",
   "metadata": {},
   "source": [
    "You can open this file and examine its contents. The main data section of the file is contained in lines that start with ATOM keyword, followed by atom number, atom name, residue name, chain name, residue number, x y z coordinates, occupance and B-factor.\n",
    "Let's have a look:"
   ]
  },
  {
   "cell_type": "code",
   "execution_count": 4,
   "metadata": {},
   "outputs": [
    {
     "name": "stdout",
     "output_type": "stream",
     "text": [
      "ATOM      1  N   GLU A  23       3.357  14.154   7.439  1.00 35.84           N  \n",
      "ATOM      2  CA  GLU A  23       4.577  13.722   8.145  1.00 35.17           C  \n",
      "ATOM      3  C   GLU A  23       4.416  12.424   8.920  1.00 32.22           C  \n",
      "ATOM      4  O   GLU A  23       5.255  12.130   9.740  1.00 33.08           O  \n",
      "ATOM      5  CB  GLU A  23       5.047  14.791   9.128  1.00 36.33           C  \n",
      "ATOM      6  CG  GLU A  23       5.296  16.169   8.558  1.00 40.82           C  \n",
      "ATOM      7  CD  GLU A  23       5.540  17.200   9.647  1.00 43.10           C  \n",
      "ATOM      8  OE1 GLU A  23       5.385  18.412   9.356  1.00 47.25           O  \n",
      "ATOM      9  OE2 GLU A  23       5.888  16.799  10.790  1.00 45.94           O  \n",
      "ATOM     10  N   TYR A  24       3.332  11.663   8.702  1.00 28.90           N  \n",
      "grep: write error: Broken pipe\n"
     ]
    }
   ],
   "source": [
    "!grep '^ATOM' 1Q3L.pdb | head -n 10"
   ]
  },
  {
   "cell_type": "markdown",
   "metadata": {},
   "source": [
    "Note, that PDB files usually lack hydrogen atoms.\n",
    "We will now use a viewer to look at the structure in 3D. Use mouse to navigate and view the structure. Look at protein side chains, find oxygens of water molecules."
   ]
  },
  {
   "cell_type": "code",
   "execution_count": 16,
   "metadata": {},
   "outputs": [
    {
     "data": {
      "application/vnd.jupyter.widget-view+json": {
       "model_id": "e03a4d1ceae74c6cbfe22ebcd49383e3",
       "version_major": 2,
       "version_minor": 0
      },
      "text/plain": [
       "NGLWidget()"
      ]
     },
     "metadata": {},
     "output_type": "display_data"
    }
   ],
   "source": [
    "import nglview as nv\n",
    "a=nv.show_structure_file('1Q3L.pdb')\n",
    "a.add_representation('licorice')\n",
    "a"
   ]
  },
  {
   "cell_type": "markdown",
   "metadata": {},
   "source": [
    "We will use MDanalysis library to extract only chain A from the PDB file"
   ]
  },
  {
   "cell_type": "code",
   "execution_count": 35,
   "metadata": {},
   "outputs": [],
   "source": [
    "import MDAnalysis as mda\n",
    "pdb=mda.Universe(\"1Q3L.pdb\")\n",
    "sys=pdb.select_atoms(\"segid A\")\n",
    "\n",
    "pdb.trajectory.remarks=[]\n",
    "pdb.trajectory.compound=[]\n",
    "pdb.trajectory.header=['Chromodomain']\n",
    "\n",
    "sys.write(\"sys.pdb\")"
   ]
  },
  {
   "cell_type": "markdown",
   "metadata": {},
   "source": [
    "## Step 2. Create simulation system and its topology.\n",
    "- We need to do the following things:\n",
    "   + Solvate our protein in a box with water and ions.\n",
    "   + Create a physics model of the system for simulations based on a forcefield. This will require the generation of the so-called topology of the molecules, that describes atoms connectivity and atom types according to the forcefield.\n"
   ]
  },
  {
   "cell_type": "markdown",
   "metadata": {},
   "source": [
    "Let's understand how the forcefields files are organized.\n",
    "Gromacs ships with a number of forcefields alredy provided.\n",
    "The folder containing forcefields can be located as follows, below we output its contents."
   ]
  },
  {
   "cell_type": "code",
   "execution_count": 8,
   "metadata": {},
   "outputs": [
    {
     "name": "stdout",
     "output_type": "stream",
     "text": [
      "/opt/miniconda3/envs/moldyn/share/gromacs/top\n",
      "amber03.ff\n",
      "amber94.ff\n",
      "amber96.ff\n",
      "amber99.ff\n",
      "amber99sb.ff\n",
      "amber99sb-ildn.ff\n",
      "amberGS.ff\n",
      "atommass.dat\n",
      "atom_nom.tbl\n",
      "bonds.dlg\n",
      "ca-shift.dat\n",
      "cb-shift.dat\n",
      "charmm27.ff\n",
      "co-shift.dat\n",
      "defselection.dat\n",
      "dgsolv.dat\n",
      "edissoc.dat\n",
      "electroneg.dat\n",
      "elements.dat\n",
      "export.dlg\n",
      "ffG43a1.itp\n",
      "ffG43a2.itp\n",
      "ffG45a3.itp\n",
      "ffG53a5.itp\n",
      "ffG53a6.itp\n",
      "ffoplsaa.itp\n",
      "ffoplsaa-n.tst\n",
      "flexspce.itp\n",
      "flexspc.itp\n",
      "flexwat-ferguson.itp\n",
      "gromos43a1.ff\n",
      "gromos43a2.ff\n",
      "gromos45a3.ff\n",
      "gromos53a5.ff\n",
      "gromos53a6.ff\n",
      "gromos54a7.ff\n",
      "ha-shift.dat\n",
      "ions.itp\n",
      "nsfactor.dat\n",
      "oplsaa.ff\n",
      "phbres.dat\n",
      "ps.m2p\n",
      "random.dat\n",
      "README\n",
      "refi_aa.dat\n",
      "residues.dtd\n",
      "residues.xml\n",
      "residuetypes.dat\n",
      "sfactor.dat\n",
      "spc216.gro\n",
      "spce.itp\n",
      "spc.itp\n",
      "specbond.dat\n",
      "ss.map\n",
      "surface.dat\n",
      "sw.itp\n",
      "table6-10.xvg\n",
      "table6-11.xvg\n",
      "table6-12.xvg\n",
      "table6-8.xvg\n",
      "table6-9.xvg\n",
      "tip3p.itp\n",
      "tip4p.gro\n",
      "tip4p.itp\n",
      "tip5p.gro\n",
      "vdw-msms.dat\n",
      "vdwradii.dat\n",
      "xlateat.dat\n"
     ]
    }
   ],
   "source": [
    "%%bash\n",
    "source GMXRC\n",
    "echo $GMXDATA/top\n",
    "ls $GMXDATA/top"
   ]
  },
  {
   "cell_type": "markdown",
   "metadata": {},
   "source": [
    "We will use CHARMM27 forcefield, let's look inside the folder containing forcefield."
   ]
  },
  {
   "cell_type": "code",
   "execution_count": 9,
   "metadata": {},
   "outputs": [
    {
     "name": "stdout",
     "output_type": "stream",
     "text": [
      "aminoacids.arn\n",
      "aminoacids.c.tdb\n",
      "aminoacids.hdb\n",
      "aminoacids.n.tdb\n",
      "aminoacids.r2b\n",
      "aminoacids.rtp\n",
      "aminoacids.vsd\n",
      "atomtypes.atp\n",
      "cmap.itp\n",
      "dna.arn\n",
      "dna.c.tdb\n",
      "dna.hdb\n",
      "dna.n.tdb\n",
      "dna.rtp\n",
      "ffbonded.itp\n",
      "ffnabonded.itp\n",
      "ffnanonbonded.itp\n",
      "ffnonbonded.itp\n",
      "forcefield.doc\n",
      "forcefield.itp\n",
      "gb.itp\n",
      "ions.itp\n",
      "lipids.hdb\n",
      "lipids.rtp\n",
      "rna.arn\n",
      "rna.c.tdb\n",
      "rna.hdb\n",
      "rna.n.tdb\n",
      "rna.r2b\n",
      "rna.rtp\n",
      "spce.itp\n",
      "spc.itp\n",
      "tip3p.itp\n",
      "tip4p.itp\n",
      "tip5p.itp\n",
      "tips3p.itp\n",
      "watermodels.dat\n"
     ]
    }
   ],
   "source": [
    "%%bash\n",
    "source GMXRC\n",
    "ls $GMXDATA/top/charmm27.ff"
   ]
  },
  {
   "cell_type": "markdown",
   "metadata": {},
   "source": [
    "You can look into files using following snippet"
   ]
  },
  {
   "cell_type": "code",
   "execution_count": 30,
   "metadata": {},
   "outputs": [],
   "source": [
    "%%bash\n",
    "source GMXRC\n",
    "#head -n 10 $GMXDATA/top/charmm27.ff/atomtypes.atp\n",
    "#head -n 10 $GMXDATA/top/charmm27.ff/aminoacids.rtp\n",
    "#head -n 10 $GMXDATA/top/charmm27.ff/ffbonded.itp\n",
    "#head -n 10 $GMXDATA/top/charmm27.ff/ffnonbonded.itp\n",
    "#head -n 30 $GMXDATA/top/charmm27.ff/forcefield.itp\n"
   ]
  },
  {
   "cell_type": "markdown",
   "metadata": {},
   "source": [
    "Here is the description of key files:\n",
    " - atomtypes.atp - list of atom types in the forcefield. Atom types should not be confused with atom names in PDB. Atom types are connected to the forcefield parameters (van der Waals radii, interaction potentials, etc.). Every \n",
    " - aminoacids.rtp - residue topology file, for amino acid residue defines \n",
    "      + the correspondence of PDB atom names in a specific residue to forcefield atom types\n",
    "      + The topology, i.e. connectivity of atoms\n",
    "      + Defines the partial charges on atoms.\n",
    "      + Defines some additional topology parameters, such as improper angles, and forcefiled specific corrections.\n",
    " - ffbonded.itp - defines forcefield interaction functions and constants for bonded interactions between specific atom types, i.e. for bonds, angles, dihedral angles.\n",
    " - ffnonbonded.itp - defines forcefield constants for non-bonded interactions, e.g. Lennard-Johnes potential constants.\n",
    " - forcefield.itp - defines some general parameters of the forcefield (e.g. non-bonded interaction functions, mixing rules) and lists all other files that will be included in the forcefiled definition."
   ]
  },
  {
   "cell_type": "markdown",
   "metadata": {},
   "source": [
    "## Step 2.1. Generating initial topology file from the PDB file\n",
    "- The topology file is used to describe the connectivity of atoms in the system, their types according to the forcefiled and the forcefield interaction parameters. I.e. topology file describes the exact physics model of the system to simulate.\n",
    "- PDB2GMX command is a very helpful tool to create an initial topology file from the PDB file http://manual.gromacs.org/documentation/2018/onlinehelp/gmx-pdb2gmx.html"
   ]
  },
  {
   "cell_type": "code",
   "execution_count": 36,
   "metadata": {},
   "outputs": [
    {
     "name": "stdout",
     "output_type": "stream",
     "text": [
      "                     :-) GROMACS - gmx pdb2gmx, 2018.3 (-:\n",
      "\n",
      "                            GROMACS is written by:\n",
      "     Emile Apol      Rossen Apostolov      Paul Bauer     Herman J.C. Berendsen\n",
      "    Par Bjelkmar    Aldert van Buuren   Rudi van Drunen     Anton Feenstra  \n",
      "  Gerrit Groenhof    Aleksei Iupinov   Christoph Junghans   Anca Hamuraru   \n",
      " Vincent Hindriksen Dimitrios Karkoulis    Peter Kasson        Jiri Kraus    \n",
      "  Carsten Kutzner      Per Larsson      Justin A. Lemkul    Viveca Lindahl  \n",
      "  Magnus Lundborg   Pieter Meulenhoff    Erik Marklund      Teemu Murtola   \n",
      "    Szilard Pall       Sander Pronk      Roland Schulz     Alexey Shvetsov  \n",
      "   Michael Shirts     Alfons Sijbers     Peter Tieleman    Teemu Virolainen \n",
      " Christian Wennberg    Maarten Wolf   \n",
      "                           and the project leaders:\n",
      "        Mark Abraham, Berk Hess, Erik Lindahl, and David van der Spoel\n",
      "\n",
      "Copyright (c) 1991-2000, University of Groningen, The Netherlands.\n",
      "Copyright (c) 2001-2017, The GROMACS development team at\n",
      "Uppsala University, Stockholm University and\n",
      "the Royal Institute of Technology, Sweden.\n",
      "check out http://www.gromacs.org for more information.\n",
      "\n",
      "GROMACS is free software; you can redistribute it and/or modify it\n",
      "under the terms of the GNU Lesser General Public License\n",
      "as published by the Free Software Foundation; either version 2.1\n",
      "of the License, or (at your option) any later version.\n",
      "\n",
      "GROMACS:      gmx pdb2gmx, version 2018.3\n",
      "Executable:   /opt/miniconda3/envs/moldyn/bin/gmx\n",
      "Data prefix:  /opt/miniconda3/envs/moldyn\n",
      "Working dir:  /home/alexsha/projects/MolModEdu/GROMACS/beginner\n",
      "Command line:\n",
      "  gmx pdb2gmx -f sys.pdb -o init.pdb -p topol.top -water tip3p -ff charmm27\n",
      "\n",
      "\n",
      "Using the Charmm27 force field in directory charmm27.ff\n",
      "\n",
      "Opening force field file /opt/miniconda3/envs/moldyn/share/gromacs/top/charmm27.ff/aminoacids.r2b\n",
      "Opening force field file /opt/miniconda3/envs/moldyn/share/gromacs/top/charmm27.ff/rna.r2b\n",
      "Reading sys.pdb...\n",
      "Read 'MDANALYSIS FRAME 0: Created by PDBWriter', 537 atoms\n",
      "Analyzing pdb file\n",
      "Splitting chemical chains based on TER records or chain id changing.\n",
      "There are 1 chains and 1 blocks of water and 139 residues with 537 atoms\n",
      "\n",
      "  chain  #res #atoms\n",
      "  1 'A'    52    450  \n",
      "  2 ' '    87     87  (only water)\n",
      "\n",
      "\n",
      "WARNING: there were 0 atoms with zero occupancy and 7 atoms with\n",
      "         occupancy unequal to one (out of 537 atoms). Check your pdb file.\n",
      "\n",
      "Opening force field file /opt/miniconda3/envs/moldyn/share/gromacs/top/charmm27.ff/atomtypes.atp\n",
      "Atomtype 213\n",
      "Reading residue database... (charmm27)\n",
      "Opening force field file /opt/miniconda3/envs/moldyn/share/gromacs/top/charmm27.ff/aminoacids.rtp\n",
      "Residue 44\n",
      "Sorting it all out...\n",
      "Opening force field file /opt/miniconda3/envs/moldyn/share/gromacs/top/charmm27.ff/dna.rtp\n",
      "Residue 48\n",
      "Sorting it all out...\n",
      "Opening force field file /opt/miniconda3/envs/moldyn/share/gromacs/top/charmm27.ff/lipids.rtp\n",
      "Residue 60\n",
      "Sorting it all out...\n",
      "Opening force field file /opt/miniconda3/envs/moldyn/share/gromacs/top/charmm27.ff/rna.rtp\n",
      "Residue 64\n",
      "Sorting it all out...\n",
      "Opening force field file /opt/miniconda3/envs/moldyn/share/gromacs/top/charmm27.ff/aminoacids.hdb\n",
      "Opening force field file /opt/miniconda3/envs/moldyn/share/gromacs/top/charmm27.ff/dna.hdb\n",
      "Opening force field file /opt/miniconda3/envs/moldyn/share/gromacs/top/charmm27.ff/lipids.hdb\n",
      "Opening force field file /opt/miniconda3/envs/moldyn/share/gromacs/top/charmm27.ff/rna.hdb\n",
      "Opening force field file /opt/miniconda3/envs/moldyn/share/gromacs/top/charmm27.ff/aminoacids.n.tdb\n",
      "Opening force field file /opt/miniconda3/envs/moldyn/share/gromacs/top/charmm27.ff/dna.n.tdb\n",
      "Opening force field file /opt/miniconda3/envs/moldyn/share/gromacs/top/charmm27.ff/rna.n.tdb\n",
      "Opening force field file /opt/miniconda3/envs/moldyn/share/gromacs/top/charmm27.ff/aminoacids.c.tdb\n",
      "Opening force field file /opt/miniconda3/envs/moldyn/share/gromacs/top/charmm27.ff/dna.c.tdb\n",
      "Opening force field file /opt/miniconda3/envs/moldyn/share/gromacs/top/charmm27.ff/rna.c.tdb\n",
      "\n",
      "Back Off! I just backed up topol.top to ./#topol.top.1#\n",
      "Processing chain 1 'A' (450 atoms, 52 residues)\n",
      "Identified residue GLU23 as a starting terminus.\n",
      "Identified residue ARG74 as a ending terminus.\n",
      "8 out of 8 lines of specbond.dat converted successfully\n",
      "Special Atom Distance matrix:\n",
      "                   MET38\n",
      "                   SD135\n",
      "   CYS63   SG356   1.686\n",
      "Start terminus GLU-23: NH3+\n",
      "End terminus ARG-74: COO-\n",
      "Opening force field file /opt/miniconda3/envs/moldyn/share/gromacs/top/charmm27.ff/aminoacids.arn\n",
      "Opening force field file /opt/miniconda3/envs/moldyn/share/gromacs/top/charmm27.ff/dna.arn\n",
      "Opening force field file /opt/miniconda3/envs/moldyn/share/gromacs/top/charmm27.ff/rna.arn\n",
      "Checking for duplicate atoms....\n",
      "Generating any missing hydrogen atoms and/or adding termini.\n",
      "Now there are 52 residues with 880 atoms\n",
      "Making bonds...\n",
      "Number of bonds was 890, now 890\n",
      "Generating angles, dihedrals and pairs...\n",
      "Before cleaning: 2335 pairs\n",
      "Before cleaning: 2355 dihedrals\n",
      "Keeping all generated dihedrals\n",
      "Making cmap torsions...\n",
      "There are   50 cmap torsion pairs\n",
      "There are 2355 dihedrals,  142 impropers, 1600 angles\n",
      "          2314 pairs,      890 bonds and     0 virtual sites\n",
      "Total mass 6396.120 a.m.u.\n",
      "Total charge -3.000 e\n",
      "Writing topology\n",
      "Processing chain 2 (87 atoms, 87 residues)\n",
      "Problem with chain definition, or missing terminal residues.\n",
      "This chain does not appear to contain a recognized chain molecule.\n",
      "If this is incorrect, you can edit residuetypes.dat to modify the behavior.\n",
      "8 out of 8 lines of specbond.dat converted successfully\n",
      "Opening force field file /opt/miniconda3/envs/moldyn/share/gromacs/top/charmm27.ff/aminoacids.arn\n",
      "Opening force field file /opt/miniconda3/envs/moldyn/share/gromacs/top/charmm27.ff/dna.arn\n",
      "Opening force field file /opt/miniconda3/envs/moldyn/share/gromacs/top/charmm27.ff/rna.arn\n",
      "Checking for duplicate atoms....\n",
      "Generating any missing hydrogen atoms and/or adding termini.\n",
      "Now there are 87 residues with 261 atoms\n",
      "Making bonds...\n",
      "Number of bonds was 261, now 261\n",
      "Generating angles, dihedrals and pairs...\n",
      "Making cmap torsions...\n",
      "There are    0 dihedrals,    0 impropers,  261 angles\n",
      "             0 pairs,      261 bonds and     0 virtual sites\n",
      "Total mass 1567.340 a.m.u.\n",
      "Total charge 0.000 e\n",
      "Including chain 1 in system: 880 atoms 52 residues\n",
      "Including chain 2 in system: 261 atoms 87 residues\n",
      "Now there are 1141 atoms and 139 residues\n",
      "Total mass in system 7963.459 a.m.u.\n",
      "Total charge in system -3.000 e\n",
      "\n",
      "Writing coordinate file...\n",
      "\t\t--------- PLEASE NOTE ------------\n",
      "You have successfully generated a topology from: sys.pdb.\n",
      "The Charmm27 force field and the tip3p water model are used.\n",
      "\t\t--------- ETON ESAELP ------------\n",
      "\n",
      "GROMACS reminds you: \"When using an abacus, a human can achieve about 0.1 flops/watt. Super-computers achieve about 2 gigaflops/watt.\" (John Linford)\n",
      "\n"
     ]
    }
   ],
   "source": [
    "!gmx pdb2gmx -f sys.pdb -o init.pdb -p topol.top -water tip3p -ff charmm27"
   ]
  },
  {
   "cell_type": "markdown",
   "metadata": {},
   "source": [
    "PDB2GMX will produce:\n",
    " - A new init.pdb file with hydrogen atoms added\n",
    " - A topol.top file - the topology file. Note: GROMACS uses a preprocessor and its syntax similar to C/C++ language. This gives the ability to 'include' certatin files within others and use 'define' variables to conditionally include certain files.\n",
    " - posre.itp - file, an axillary file which defines contraints on atom positions - useful during equlibration of the system.\n",
    "Let's look at some files:"
   ]
  },
  {
   "cell_type": "code",
   "execution_count": null,
   "metadata": {},
   "outputs": [],
   "source": [
    "#!head -n 10 init.pdb\n",
    "!head -n 40 topol.top\n",
    "#!head -n 10 posre.itp\n",
    "\n"
   ]
  },
  {
   "cell_type": "markdown",
   "metadata": {},
   "source": [
    "## Step 2.2. Solvating the molecule.\n",
    "Next we will need to put our protein into a box of water"
   ]
  },
  {
   "cell_type": "code",
   "execution_count": 48,
   "metadata": {},
   "outputs": [
    {
     "name": "stdout",
     "output_type": "stream",
     "text": [
      "                     :-) GROMACS - gmx editconf, 2018.3 (-:\n",
      "\n",
      "                            GROMACS is written by:\n",
      "     Emile Apol      Rossen Apostolov      Paul Bauer     Herman J.C. Berendsen\n",
      "    Par Bjelkmar    Aldert van Buuren   Rudi van Drunen     Anton Feenstra  \n",
      "  Gerrit Groenhof    Aleksei Iupinov   Christoph Junghans   Anca Hamuraru   \n",
      " Vincent Hindriksen Dimitrios Karkoulis    Peter Kasson        Jiri Kraus    \n",
      "  Carsten Kutzner      Per Larsson      Justin A. Lemkul    Viveca Lindahl  \n",
      "  Magnus Lundborg   Pieter Meulenhoff    Erik Marklund      Teemu Murtola   \n",
      "    Szilard Pall       Sander Pronk      Roland Schulz     Alexey Shvetsov  \n",
      "   Michael Shirts     Alfons Sijbers     Peter Tieleman    Teemu Virolainen \n",
      " Christian Wennberg    Maarten Wolf   \n",
      "                           and the project leaders:\n",
      "        Mark Abraham, Berk Hess, Erik Lindahl, and David van der Spoel\n",
      "\n",
      "Copyright (c) 1991-2000, University of Groningen, The Netherlands.\n",
      "Copyright (c) 2001-2017, The GROMACS development team at\n",
      "Uppsala University, Stockholm University and\n",
      "the Royal Institute of Technology, Sweden.\n",
      "check out http://www.gromacs.org for more information.\n",
      "\n",
      "GROMACS is free software; you can redistribute it and/or modify it\n",
      "under the terms of the GNU Lesser General Public License\n",
      "as published by the Free Software Foundation; either version 2.1\n",
      "of the License, or (at your option) any later version.\n",
      "\n",
      "GROMACS:      gmx editconf, version 2018.3\n",
      "Executable:   /opt/miniconda3/envs/moldyn/bin/gmx\n",
      "Data prefix:  /opt/miniconda3/envs/moldyn\n",
      "Working dir:  /home/alexsha/projects/MolModEdu/GROMACS/beginner\n",
      "Command line:\n",
      "  gmx editconf -d 1 -c -f init.pdb -o init_box.pdb\n",
      "\n",
      "Read 1141 atoms\n",
      "Volume: 196.434 nm^3, corresponds to roughly 88300 electrons\n",
      "No velocities found\n",
      "    system size :  2.773  3.081  3.331 (nm)\n",
      "    center      : -0.735  0.966  0.528 (nm)\n",
      "    box vectors :  3.381  7.683  7.562 (nm)\n",
      "    box angles  :  90.00  90.00  90.00 (degrees)\n",
      "    box volume  : 196.43               (nm^3)\n",
      "    shift       :  3.122  1.574  2.138 (nm)\n",
      "new center      :  2.386  2.541  2.666 (nm)\n",
      "new box vectors :  4.773  5.081  5.331 (nm)\n",
      "new box angles  :  90.00  90.00  90.00 (degrees)\n",
      "new box volume  : 129.28               (nm^3)\n",
      "\n",
      "WARNING: No boxtype specified - distance condition applied in each dimension.\n",
      "If the molecule rotates the actual distance will be smaller. You might want\n",
      "to use a cubic box instead, or why not try a dodecahedron today?\n",
      "\n",
      "Back Off! I just backed up init_box.pdb to ./#init_box.pdb.1#\n",
      "\n",
      "GROMACS reminds you: \"Uh-oh .... Right Again\" (Laurie Anderson)\n",
      "\n"
     ]
    }
   ],
   "source": [
    "#First put a system in a periodic box, with 1 nm distance to the walls (-d), centered in the box (-c)\n",
    "!gmx editconf -d 1 -c -f init.pdb -o init_box.pdb"
   ]
  },
  {
   "cell_type": "code",
   "execution_count": 49,
   "metadata": {},
   "outputs": [
    {
     "name": "stdout",
     "output_type": "stream",
     "text": [
      "TITLE     MDANALYSIS FRAME 0: Created by PDBWriter\n",
      "REMARK    THIS IS A SIMULATION BOX\n",
      "CRYST1   33.809   76.828   75.625  90.00  90.00  90.00 P 1           1\n",
      "MODEL        1\n",
      "ATOM      1  N   GLU A  23       3.357  14.154   7.439  1.00  0.00           N\n",
      "ATOM      2  H1  GLU A  23       3.538  15.010   6.954  1.00  0.00            \n",
      "ATOM      3  H2  GLU A  23       3.085  13.450   6.783  1.00  0.00            \n",
      "ATOM      4  H3  GLU A  23       2.621  14.295   8.101  1.00  0.00            \n",
      "ATOM      5  CA  GLU A  23       4.577  13.722   8.145  1.00  0.00           C\n",
      "ATOM      6  HA  GLU A  23       5.225  13.578   7.397  1.00  0.00            \n",
      "TITLE     MDANALYSIS FRAME 0: Created by PDBWriter\n",
      "REMARK    THIS IS A SIMULATION BOX\n",
      "CRYST1   47.727   50.811   53.311  90.00  90.00  90.00 P 1           1\n",
      "MODEL        1\n",
      "ATOM      1  N   GLU A  23      34.573  29.898  28.814  1.00  0.00           N\n",
      "ATOM      2  H1  GLU A  23      34.754  30.754  28.329  1.00  0.00           H\n",
      "ATOM      3  H2  GLU A  23      34.301  29.194  28.158  1.00  0.00           H\n",
      "ATOM      4  H3  GLU A  23      33.837  30.039  29.476  1.00  0.00           H\n",
      "ATOM      5  CA  GLU A  23      35.793  29.466  29.520  1.00  0.00           C\n",
      "ATOM      6  HA  GLU A  23      36.441  29.322  28.772  1.00  0.00           H\n"
     ]
    }
   ],
   "source": [
    "#Look how the box vectors changed in the pdb-file\n",
    "!head init.pdb\n",
    "!head init_box.pdb"
   ]
  },
  {
   "cell_type": "code",
   "execution_count": 50,
   "metadata": {},
   "outputs": [
    {
     "name": "stdout",
     "output_type": "stream",
     "text": [
      "                     :-) GROMACS - gmx solvate, 2018.3 (-:\n",
      "\n",
      "                            GROMACS is written by:\n",
      "     Emile Apol      Rossen Apostolov      Paul Bauer     Herman J.C. Berendsen\n",
      "    Par Bjelkmar    Aldert van Buuren   Rudi van Drunen     Anton Feenstra  \n",
      "  Gerrit Groenhof    Aleksei Iupinov   Christoph Junghans   Anca Hamuraru   \n",
      " Vincent Hindriksen Dimitrios Karkoulis    Peter Kasson        Jiri Kraus    \n",
      "  Carsten Kutzner      Per Larsson      Justin A. Lemkul    Viveca Lindahl  \n",
      "  Magnus Lundborg   Pieter Meulenhoff    Erik Marklund      Teemu Murtola   \n",
      "    Szilard Pall       Sander Pronk      Roland Schulz     Alexey Shvetsov  \n",
      "   Michael Shirts     Alfons Sijbers     Peter Tieleman    Teemu Virolainen \n",
      " Christian Wennberg    Maarten Wolf   \n",
      "                           and the project leaders:\n",
      "        Mark Abraham, Berk Hess, Erik Lindahl, and David van der Spoel\n",
      "\n",
      "Copyright (c) 1991-2000, University of Groningen, The Netherlands.\n",
      "Copyright (c) 2001-2017, The GROMACS development team at\n",
      "Uppsala University, Stockholm University and\n",
      "the Royal Institute of Technology, Sweden.\n",
      "check out http://www.gromacs.org for more information.\n",
      "\n",
      "GROMACS is free software; you can redistribute it and/or modify it\n",
      "under the terms of the GNU Lesser General Public License\n",
      "as published by the Free Software Foundation; either version 2.1\n",
      "of the License, or (at your option) any later version.\n",
      "\n",
      "GROMACS:      gmx solvate, version 2018.3\n",
      "Executable:   /opt/miniconda3/envs/moldyn/bin/gmx\n",
      "Data prefix:  /opt/miniconda3/envs/moldyn\n",
      "Working dir:  /home/alexsha/projects/MolModEdu/GROMACS/beginner\n",
      "Command line:\n",
      "  gmx solvate -cp init_box.pdb -cs spc216.gro -o init_solv.pdb -p topol.top\n",
      "\n",
      "Reading solute configuration\n",
      "MDANALYSIS FRAME 0: Created by PDBWriter\n",
      "Containing 1141 atoms in 139 residues\n",
      "Reading solvent configuration\n",
      "216H2O,WATJP01,SPC216,SPC-MODEL,300K,BOX(M)=1.86206NM,WFVG,MAR. 1984\n",
      "Containing 648 atoms in 216 residues\n",
      "\n",
      "Initialising inter-atomic distances...\n",
      "\n",
      "WARNING: Masses and atomic (Van der Waals) radii will be guessed\n",
      "         based on residue and atom names, since they could not be\n",
      "         definitively assigned from the information in your input\n",
      "         files. These guessed numbers might deviate from the mass\n",
      "         and radius of the atom type. Please check the output\n",
      "         files if necessary.\n",
      "\n",
      "NOTE: From version 5.0 gmx solvate uses the Van der Waals radii\n",
      "from the source below. This means the results may be different\n",
      "compared to previous GROMACS versions.\n",
      "\n",
      "++++ PLEASE READ AND CITE THE FOLLOWING REFERENCE ++++\n",
      "A. Bondi\n",
      "van der Waals Volumes and Radii\n",
      "J. Phys. Chem. 68 (1964) pp. 441-451\n",
      "-------- -------- --- Thank You --- -------- --------\n",
      "\n",
      "Generating solvent configuration\n",
      "Will generate new solvent configuration of 3x3x3 boxes\n",
      "Solvent box contains 15318 atoms in 5106 residues\n",
      "Removed 2559 solvent atoms due to solvent-solvent overlap\n",
      "Removed 1086 solvent atoms due to solute-solvent overlap\n",
      "Sorting configuration\n",
      "Found 1 molecule type:\n",
      "    SOL (   3 atoms):  3891 residues\n",
      "Generated solvent containing 11673 atoms in 3891 residues\n",
      "Writing generated configuration to init_solv.pdb\n",
      "\n",
      "Output configuration contains 12814 atoms in 4030 residues\n",
      "Volume                 :     129.282 (nm^3)\n",
      "Density                :     1008.09 (g/l)\n",
      "Number of solvent molecules:   3891   \n",
      "\n",
      "Processing topology\n",
      "Adding line for 3891 solvent molecules with resname (SOL) to topology file (topol.top)\n",
      "\n",
      "Back Off! I just backed up topol.top to ./#topol.top.2#\n",
      "\n",
      "GROMACS reminds you: \"Dreams seldom materialize on their own.\" (Dian Fossey)\n",
      "\n"
     ]
    }
   ],
   "source": [
    "#Now to the solvation, note, the topology file will be updated to reflect the added water molecules.\n",
    "!gmx solvate -cp init_box.pdb -cs spc216.gro -o init_solv.pdb -p topol.top"
   ]
  },
  {
   "cell_type": "code",
   "execution_count": 51,
   "metadata": {},
   "outputs": [
    {
     "data": {
      "application/vnd.jupyter.widget-view+json": {
       "model_id": "3d0ea5fdf7434dd2b3ae41e2b400e3c7",
       "version_major": 2,
       "version_minor": 0
      },
      "text/plain": [
       "NGLWidget()"
      ]
     },
     "metadata": {},
     "output_type": "display_data"
    }
   ],
   "source": [
    "#Let's look at the protein in a water box.\n",
    "import nglview as nv\n",
    "a=nv.show_structure_file('init_solv.pdb')\n",
    "a.add_representation('licorice')\n",
    "a"
   ]
  },
  {
   "cell_type": "markdown",
   "metadata": {},
   "source": [
    "## Step 2.3. Adding ions to the system\n",
    "Next we will need to add ions in order to\n",
    "- neutralize the system\n",
    "- model the desired ionic strength in the cell, usually 150 mM NaCl is used for simulations."
   ]
  },
  {
   "cell_type": "markdown",
   "metadata": {},
   "source": [
    "Placing the ions at arbitrary positions is a bad idea due to potential creation of bad, high energy contacts.\n",
    "So GROMACS, uses a special techinque to estimate the low energy positions and place ions there implemented in `genion` command.\n",
    "This command, however, requires a .tpr file, a type of file, which is normally used to start an MD simulation run.\n",
    "It's generation requires and .mdp file, which contains infromation about the simulation protocol.\n",
    "We will generate this file with a simple ions.mpd file.\n",
    "And then execute the `genion` command.\n"
   ]
  },
  {
   "cell_type": "code",
   "execution_count": 54,
   "metadata": {},
   "outputs": [
    {
     "name": "stdout",
     "output_type": "stream",
     "text": [
      "                      :-) GROMACS - gmx grompp, 2018.3 (-:\n",
      "\n",
      "                            GROMACS is written by:\n",
      "     Emile Apol      Rossen Apostolov      Paul Bauer     Herman J.C. Berendsen\n",
      "    Par Bjelkmar    Aldert van Buuren   Rudi van Drunen     Anton Feenstra  \n",
      "  Gerrit Groenhof    Aleksei Iupinov   Christoph Junghans   Anca Hamuraru   \n",
      " Vincent Hindriksen Dimitrios Karkoulis    Peter Kasson        Jiri Kraus    \n",
      "  Carsten Kutzner      Per Larsson      Justin A. Lemkul    Viveca Lindahl  \n",
      "  Magnus Lundborg   Pieter Meulenhoff    Erik Marklund      Teemu Murtola   \n",
      "    Szilard Pall       Sander Pronk      Roland Schulz     Alexey Shvetsov  \n",
      "   Michael Shirts     Alfons Sijbers     Peter Tieleman    Teemu Virolainen \n",
      " Christian Wennberg    Maarten Wolf   \n",
      "                           and the project leaders:\n",
      "        Mark Abraham, Berk Hess, Erik Lindahl, and David van der Spoel\n",
      "\n",
      "Copyright (c) 1991-2000, University of Groningen, The Netherlands.\n",
      "Copyright (c) 2001-2017, The GROMACS development team at\n",
      "Uppsala University, Stockholm University and\n",
      "the Royal Institute of Technology, Sweden.\n",
      "check out http://www.gromacs.org for more information.\n",
      "\n",
      "GROMACS is free software; you can redistribute it and/or modify it\n",
      "under the terms of the GNU Lesser General Public License\n",
      "as published by the Free Software Foundation; either version 2.1\n",
      "of the License, or (at your option) any later version.\n",
      "\n",
      "GROMACS:      gmx grompp, version 2018.3\n",
      "Executable:   /opt/miniconda3/envs/moldyn/bin/gmx\n",
      "Data prefix:  /opt/miniconda3/envs/moldyn\n",
      "Working dir:  /home/alexsha/projects/MolModEdu/GROMACS/beginner\n",
      "Command line:\n",
      "  gmx grompp -f ions.mdp -c init_solv.pdb -p topol.top -o ions.tpr -maxwarn 1\n",
      "\n",
      "\n",
      "NOTE 1 [file ions.mdp]:\n",
      "  With Verlet lists the optimal nstlist is >= 10, with GPUs >= 20. Note\n",
      "  that with the Verlet scheme, nstlist has no effect on the accuracy of\n",
      "  your simulation.\n",
      "\n",
      "Setting the LD random seed to 826688984\n",
      "Generated 20503 of the 20503 non-bonded parameter combinations\n",
      "Generating 1-4 interactions: fudge = 1\n",
      "Generated 17396 of the 20503 1-4 parameter combinations\n",
      "Excluding 3 bonded neighbours molecule type 'Protein_chain_A'\n",
      "Excluding 2 bonded neighbours molecule type 'SOL'\n",
      "Excluding 2 bonded neighbours molecule type 'SOL'\n",
      "\n",
      "NOTE 2 [file topol.top, line 8357]:\n",
      "  System has non-zero total charge: -3.000000\n",
      "  Total charge should normally be an integer. See\n",
      "  http://www.gromacs.org/Documentation/Floating_Point_Arithmetic\n",
      "  for discussion on how close it should be to an integer.\n",
      "  \n",
      "\n",
      "\n",
      "\n",
      "WARNING 1 [file topol.top, line 8357]:\n",
      "  You are using Ewald electrostatics in a system with net charge. This can\n",
      "  lead to severe artifacts, such as ions moving into regions with low\n",
      "  dielectric, due to the uniform background charge. We suggest to\n",
      "  neutralize your system with counter ions, possibly in combination with a\n",
      "  physiological salt concentration.\n",
      "\n",
      "\n",
      "++++ PLEASE READ AND CITE THE FOLLOWING REFERENCE ++++\n",
      "J. S. Hub, B. L. de Groot, H. Grubmueller, G. Groenhof\n",
      "Quantifying Artifacts in Ewald Simulations of Inhomogeneous Systems with a Net\n",
      "Charge\n",
      "J. Chem. Theory Comput. 10 (2014) pp. 381-393\n",
      "-------- -------- --- Thank You --- -------- --------\n",
      "\n",
      "Removing all charge groups because cutoff-scheme=Verlet\n",
      "Analysing residue names:\n",
      "There are:    52    Protein residues\n",
      "There are:  3978      Water residues\n",
      "Analysing Protein...\n",
      "Number of degrees of freedom in T-Coupling group rest is 26505.00\n",
      "Calculating fourier grid dimensions for X Y Z\n",
      "Using a fourier grid of 40x44x48, spacing 0.119 0.115 0.111\n",
      "Estimate for the relative computational load of the PME mesh part: 0.18\n",
      "This run will generate roughly 1 Mb of data\n",
      "\n",
      "There were 2 notes\n",
      "\n",
      "There was 1 warning\n",
      "\n",
      "GROMACS reminds you: \"Every Sperm is Sacred\" (Monty Python)\n",
      "\n"
     ]
    }
   ],
   "source": [
    "!gmx grompp -f ions.mdp -c init_solv.pdb -p topol.top -o ions.tpr -maxwarn 1"
   ]
  },
  {
   "cell_type": "markdown",
   "metadata": {},
   "source": [
    "And now run genions http://manual.gromacs.org/documentation/current/onlinehelp/gmx-genion.html"
   ]
  },
  {
   "cell_type": "code",
   "execution_count": 68,
   "metadata": {},
   "outputs": [
    {
     "name": "stdout",
     "output_type": "stream",
     "text": [
      "Will try to add 15 NA ions and 12 CL ions.\n",
      "Select a continuous group of solvent molecules\n",
      "Selected 13: 'SOL'\n",
      "\n",
      "Processing topology\n",
      "Replacing 27 solute molecules in topology file (topol.top)  by 15 NA and 12 CL ions.\n"
     ]
    },
    {
     "name": "stderr",
     "output_type": "stream",
     "text": [
      "                      :-) GROMACS - gmx genion, 2018.3 (-:\n",
      "\n",
      "                            GROMACS is written by:\n",
      "     Emile Apol      Rossen Apostolov      Paul Bauer     Herman J.C. Berendsen\n",
      "    Par Bjelkmar    Aldert van Buuren   Rudi van Drunen     Anton Feenstra  \n",
      "  Gerrit Groenhof    Aleksei Iupinov   Christoph Junghans   Anca Hamuraru   \n",
      " Vincent Hindriksen Dimitrios Karkoulis    Peter Kasson        Jiri Kraus    \n",
      "  Carsten Kutzner      Per Larsson      Justin A. Lemkul    Viveca Lindahl  \n",
      "  Magnus Lundborg   Pieter Meulenhoff    Erik Marklund      Teemu Murtola   \n",
      "    Szilard Pall       Sander Pronk      Roland Schulz     Alexey Shvetsov  \n",
      "   Michael Shirts     Alfons Sijbers     Peter Tieleman    Teemu Virolainen \n",
      " Christian Wennberg    Maarten Wolf   \n",
      "                           and the project leaders:\n",
      "        Mark Abraham, Berk Hess, Erik Lindahl, and David van der Spoel\n",
      "\n",
      "Copyright (c) 1991-2000, University of Groningen, The Netherlands.\n",
      "Copyright (c) 2001-2017, The GROMACS development team at\n",
      "Uppsala University, Stockholm University and\n",
      "the Royal Institute of Technology, Sweden.\n",
      "check out http://www.gromacs.org for more information.\n",
      "\n",
      "GROMACS is free software; you can redistribute it and/or modify it\n",
      "under the terms of the GNU Lesser General Public License\n",
      "as published by the Free Software Foundation; either version 2.1\n",
      "of the License, or (at your option) any later version.\n",
      "\n",
      "GROMACS:      gmx genion, version 2018.3\n",
      "Executable:   /opt/miniconda3/envs/moldyn/bin/gmx\n",
      "Data prefix:  /opt/miniconda3/envs/moldyn\n",
      "Working dir:  /home/alexsha/projects/MolModEdu/GROMACS/beginner\n",
      "Command line:\n",
      "  gmx genion -s ions.tpr -o init_solv_ions.pdb -p topol.top -conc 0.150 -neutral\n",
      "\n",
      "Reading file ions.tpr, VERSION 2018.3 (single precision)\n",
      "Reading file ions.tpr, VERSION 2018.3 (single precision)\n",
      "Group     0 (         System) has 12814 elements\n",
      "Group     1 (        Protein) has   880 elements\n",
      "Group     2 (      Protein-H) has   451 elements\n",
      "Group     3 (        C-alpha) has    52 elements\n",
      "Group     4 (       Backbone) has   156 elements\n",
      "Group     5 (      MainChain) has   207 elements\n",
      "Group     6 (   MainChain+Cb) has   257 elements\n",
      "Group     7 (    MainChain+H) has   259 elements\n",
      "Group     8 (      SideChain) has   621 elements\n",
      "Group     9 (    SideChain-H) has   244 elements\n",
      "Group    10 (    Prot-Masses) has   880 elements\n",
      "Group    11 (    non-Protein) has 11934 elements\n",
      "Group    12 (          Water) has 11934 elements\n",
      "Group    13 (            SOL) has 11934 elements\n",
      "Group    14 (      non-Water) has   880 elements\n",
      "Select a group: Number of (3-atomic) solvent molecules: 3978\n",
      "\n",
      "Back Off! I just backed up topol.top to ./#topol.top.5#\n",
      "Using random seed -1516320301.\n",
      "Replacing solvent molecule 3865 (atom 12475) with NA\n",
      "Replacing solvent molecule 278 (atom 1714) with NA\n",
      "Replacing solvent molecule 1748 (atom 6124) with NA\n",
      "Replacing solvent molecule 3867 (atom 12481) with NA\n",
      "Replacing solvent molecule 2348 (atom 7924) with NA\n",
      "Replacing solvent molecule 1969 (atom 6787) with NA\n",
      "Replacing solvent molecule 3467 (atom 11281) with NA\n",
      "Replacing solvent molecule 2708 (atom 9004) with NA\n",
      "Replacing solvent molecule 2478 (atom 8314) with NA\n",
      "Replacing solvent molecule 1002 (atom 3886) with NA\n",
      "Replacing solvent molecule 2977 (atom 9811) with NA\n",
      "Replacing solvent molecule 2161 (atom 7363) with NA\n",
      "Replacing solvent molecule 581 (atom 2623) with NA\n",
      "Replacing solvent molecule 458 (atom 2254) with NA\n",
      "Replacing solvent molecule 3226 (atom 10558) with NA\n",
      "Replacing solvent molecule 218 (atom 1534) with CL\n",
      "Replacing solvent molecule 3043 (atom 10009) with CL\n",
      "Replacing solvent molecule 3225 (atom 10555) with CL\n",
      "Replacing solvent molecule 2629 (atom 8767) with CL\n",
      "Replacing solvent molecule 1052 (atom 4036) with CL\n",
      "Replacing solvent molecule 3363 (atom 10969) with CL\n",
      "Replacing solvent molecule 2798 (atom 9274) with CL\n",
      "Replacing solvent molecule 3439 (atom 11197) with CL\n",
      "Replacing solvent molecule 995 (atom 3865) with CL\n",
      "Replacing solvent molecule 275 (atom 1705) with CL\n",
      "Replacing solvent molecule 2503 (atom 8389) with CL\n",
      "Replacing solvent molecule 1417 (atom 5131) with CL\n",
      "\n",
      "\n",
      "Back Off! I just backed up init_solv_ions.pdb to ./#init_solv_ions.pdb.2#\n",
      "\n",
      "GROMACS reminds you: \"Input, output, electricity\" (Joni Mitchell)\n",
      "\n"
     ]
    }
   ],
   "source": [
    "%%bash\n",
    "gmx genion -s ions.tpr -o init_solv_ions.pdb -p topol.top -conc 0.150 -neutral <<!\n",
    "SOL\n",
    "!"
   ]
  },
  {
   "cell_type": "code",
   "execution_count": 69,
   "metadata": {},
   "outputs": [
    {
     "data": {
      "application/vnd.jupyter.widget-view+json": {
       "model_id": "aa4508c226c3484eae2c751434791eaf",
       "version_major": 2,
       "version_minor": 0
      },
      "text/plain": [
       "NGLWidget()"
      ]
     },
     "metadata": {},
     "output_type": "display_data"
    }
   ],
   "source": [
    "#Let's look at the protein in a water box with ions.\n",
    "import nglview as nv\n",
    "a=nv.show_structure_file('init_solv_ions.pdb')\n",
    "a.add_representation('licorice')\n",
    "a.add_representation('spacefill',selection='CL', color='green')\n",
    "a.add_representation('spacefill',selection='NA', color='magenta')\n",
    "a"
   ]
  },
  {
   "cell_type": "markdown",
   "metadata": {},
   "source": [
    "## Step 3. Subject system to energy minimization. "
   ]
  },
  {
   "cell_type": "code",
   "execution_count": null,
   "metadata": {},
   "outputs": [],
   "source": []
  },
  {
   "cell_type": "code",
   "execution_count": null,
   "metadata": {},
   "outputs": [],
   "source": []
  },
  {
   "cell_type": "code",
   "execution_count": null,
   "metadata": {},
   "outputs": [],
   "source": []
  }
 ],
 "metadata": {
  "kernelspec": {
   "display_name": "Python [conda env:moldyn]",
   "language": "python",
   "name": "conda-env-moldyn-py"
  },
  "language_info": {
   "codemirror_mode": {
    "name": "ipython",
    "version": 3
   },
   "file_extension": ".py",
   "mimetype": "text/x-python",
   "name": "python",
   "nbconvert_exporter": "python",
   "pygments_lexer": "ipython3",
   "version": "3.7.1"
  }
 },
 "nbformat": 4,
 "nbformat_minor": 2
}
